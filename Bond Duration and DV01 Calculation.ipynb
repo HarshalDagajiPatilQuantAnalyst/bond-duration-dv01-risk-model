{
 "cells": [
  {
   "cell_type": "code",
   "execution_count": 2,
   "id": "04d8638a-33b2-4668-89fe-d2895a1b73db",
   "metadata": {},
   "outputs": [],
   "source": [
    "import numpy as np\n",
    "import pandas as pd\n",
    "from scipy.interpolate import interp1d"
   ]
  },
  {
   "cell_type": "code",
   "execution_count": 3,
   "id": "4becaece-761b-47c0-8313-d91045fdef2c",
   "metadata": {},
   "outputs": [],
   "source": [
    "# Part 1: Data Setup and Yield Curve Interpolation----\n",
    "\n",
    "def create_yield_curve_interpolator(maturities_years, rates_percent):\n",
    "    rates_decimal = np.array(rates_percent) / 100\n",
    "\n",
    "    interpolator = interp1d(maturities_years, rates_decimal, kind='linear', fill_value=\"extrapolate\")\n",
    "    print(f\"Yield curve interpolator created for maturities: {maturities_years} years\")\n",
    "    print(f\"With corresponding rates: {rates_percent}%\")\n",
    "    return interpolator"
   ]
  },
  {
   "cell_type": "code",
   "execution_count": 4,
   "id": "ce76fdd7-81de-4e7c-9545-78809cc600ba",
   "metadata": {},
   "outputs": [],
   "source": [
    "# Hypothetical market yield curve data (Years, Annual Rate in %)\n",
    "# You would replace this with actual market data or the data you used previously.\n",
    "market_maturities = np.array([0.5, 1.0, 2.0, 3.0, 4.0, 5.0, 7.0, 10.0, 15.0, 20.0])\n",
    "market_rates = np.array([6.0, 6.2, 6.5, 6.7, 6.9, 7.0, 7.2, 7.5, 7.8, 8.0])"
   ]
  },
  {
   "cell_type": "code",
   "execution_count": 5,
   "id": "d340ce00-5d99-450c-8be3-17f9b94182ab",
   "metadata": {},
   "outputs": [
    {
     "name": "stdout",
     "output_type": "stream",
     "text": [
      "Yield curve interpolator created for maturities: [ 0.5  1.   2.   3.   4.   5.   7.  10.  15.  20. ] years\n",
      "With corresponding rates: [6.  6.2 6.5 6.7 6.9 7.  7.2 7.5 7.8 8. ]%\n"
     ]
    }
   ],
   "source": [
    "# Create the interpolator\n",
    "yield_curve_interpolator = create_yield_curve_interpolator(market_maturities, market_rates)"
   ]
  },
  {
   "cell_type": "code",
   "execution_count": 6,
   "id": "5148b217-e5e5-4f0d-9ff1-85c0579afd7b",
   "metadata": {},
   "outputs": [],
   "source": [
    "#--Bond Parameters\n",
    "PRINCIPAL = 10_00_000 #-10 Lakh\n",
    "COUPON_RATE_ANNUAL = 0.08\n",
    "MATURITY_YEARS = 10\n",
    "COMPOUNDING_FREQUENCY = 2"
   ]
  },
  {
   "cell_type": "code",
   "execution_count": 7,
   "id": "ed0cf3a9-f136-4a39-80ee-d1d521ab1259",
   "metadata": {},
   "outputs": [],
   "source": [
    "# Calculate Semi-annual coupon rate and number of periods\n",
    "COUPON_RATE_SEMI_ANNUAL = COUPON_RATE_ANNUAL / COMPOUNDING_FREQUENCY\n",
    "NUM_PERIODS = MATURITY_YEARS * COMPOUNDING_FREQUENCY\n",
    "SEMI_ANNUAL_COUPON_PAYMENT = PRINCIPAL * COUPON_RATE_SEMI_ANNUAL"
   ]
  },
  {
   "cell_type": "code",
   "execution_count": 8,
   "id": "be7ef83c-7ea5-4bda-a840-ee5a268d95c8",
   "metadata": {},
   "outputs": [
    {
     "name": "stdout",
     "output_type": "stream",
     "text": [
      "\n",
      "Bond Parameters:\n",
      " Principal: Rs. 1,000,000.00\n",
      " Annual Coupon Rate: 8.0%\n",
      " Maturity: 10 years\n",
      " Compounding Frequency: 2 (Semi-Annually)\n",
      " Semi-annual Coupon Payment: Rs. 40,000.00\n",
      " Total Number of Periods: 20\n"
     ]
    }
   ],
   "source": [
    "print(f\"\\nBond Parameters:\")\n",
    "print(f\" Principal: Rs. {PRINCIPAL:,.2f}\")\n",
    "print(f\" Annual Coupon Rate: {COUPON_RATE_ANNUAL*100}%\")\n",
    "print(f\" Maturity: {MATURITY_YEARS} years\")\n",
    "print(f\" Compounding Frequency: {COMPOUNDING_FREQUENCY} (Semi-Annually)\")\n",
    "print(f\" Semi-annual Coupon Payment: Rs. {SEMI_ANNUAL_COUPON_PAYMENT:,.2f}\")\n",
    "print(f\" Total Number of Periods: {NUM_PERIODS}\")"
   ]
  },
  {
   "cell_type": "code",
   "execution_count": 9,
   "id": "0a601ced-67ec-4257-ac86-ca6a4fc63f50",
   "metadata": {},
   "outputs": [
    {
     "name": "stdout",
     "output_type": "stream",
     "text": [
      "\n",
      "Generated 20 cash flows.\n"
     ]
    }
   ],
   "source": [
    "#--Part 2: Bond Cash flow Generation--\n",
    "def generate_bond_cash_flows(principal, coupon_payment_per_period, num_periods):\n",
    "    cash_flows = []\n",
    "    time_to_cash_flow_years = []\n",
    "\n",
    "    for i in range(1, num_periods + 1):\n",
    "        # Time in years for semi-annual payments (e.g., 0.5, 1.0, 1.5, ...)\n",
    "        time_in_years = i / COMPOUNDING_FREQUENCY\n",
    "\n",
    "        if i == num_periods:\n",
    "            # Last cash flow includes principal repayment\n",
    "            cash_flows.append(coupon_payment_per_period + principal)\n",
    "\n",
    "        else:\n",
    "            cash_flows.append(coupon_payment_per_period)\n",
    "        time_to_cash_flow_years.append(time_in_years)\n",
    "\n",
    "    print(f\"\\nGenerated {len(cash_flows)} cash flows.\")\n",
    "\n",
    "    return np.array(cash_flows), np.array(time_to_cash_flow_years)\n",
    "\n",
    "cash_flows, time_to_cash_flow_years = generate_bond_cash_flows(\n",
    "    PRINCIPAL, SEMI_ANNUAL_COUPON_PAYMENT, NUM_PERIODS\n",
    ")\n",
    "            \n",
    "        \n",
    "        "
   ]
  },
  {
   "cell_type": "code",
   "execution_count": 10,
   "id": "c48a6a98-0f8b-4dce-b83b-da2c42211a99",
   "metadata": {},
   "outputs": [],
   "source": [
    "#--- Part 3: Bond Pricing Function---\n",
    "def calculate_bond_price(cash_flows, time_to_cash_flow_years, ytm_annual_decimal, compounding_frequency):\n",
    "     # Convert annual YTM to YTM per compounding period\n",
    "    ytm_per_period = ytm_annual_decimal / compounding_frequency\n",
    "\n",
    "    present_values = cash_flows / ((1 + ytm_per_period)**(time_to_cash_flow_years * compounding_frequency))\n",
    "    bond_price = np.sum(present_values)"
   ]
  },
  {
   "cell_type": "code",
   "execution_count": 33,
   "id": "950aae96-cfd1-4fb3-be93-eb29e4f0c28a",
   "metadata": {},
   "outputs": [],
   "source": [
    "#--- Part 4: Duration Calcualation---\n",
    "\n",
    "def calculate_macaulay_duration(cash_flow, time_to_cash_flow_years, bond_price, ytm_annual_decimal, compounding_frequency):\n",
    "    if bond_price == 0:\n",
    "        return 0.0 #avoid division by zero\n",
    "\n",
    "    ytm_per_period = ytm_annual_decimal / compounding_frequency\n",
    "\n",
    "    #Calcualte Present value of each cash flow\n",
    "    pv_cash_flows = cash_flow / ((1 + ytm_per_period) ** (time_to_cash_flow_years * compounding_frequency))\n",
    "\n",
    "    #Calcuate weighted time to cash flow\n",
    "    weighted_times = (pv_cash_flows / bond_price) * time_to_cash_flow_years\n",
    "\n",
    "    macaulay_duration = np.sum(weighted_times)\n",
    "    return macaulay_duration"
   ]
  },
  {
   "cell_type": "code",
   "execution_count": 12,
   "id": "38ebd8a1-d40d-4a69-bec2-f88266721d56",
   "metadata": {},
   "outputs": [],
   "source": [
    "def calculate_modified_duration(macaulay_duration, ytm_annual_decimal, compounding_frequency):\n",
    "    modified_duration = macaulay_duration / (1 + (ytm_annual_decimal / compounding_frequency))\n",
    "    return modified_duration"
   ]
  },
  {
   "cell_type": "code",
   "execution_count": 13,
   "id": "c84d703a-7b28-44b8-ad88-de9e74eaf50c",
   "metadata": {},
   "outputs": [],
   "source": [
    "#--Part 5:- DV01 Calculations\n",
    "def calculate_dv01(modified_duration, bond_price):\n",
    "    dv01 = modified_duration * bond_price * 0.0001\n",
    "    return dv01\n"
   ]
  },
  {
   "cell_type": "code",
   "execution_count": 21,
   "id": "da3dca20-d576-4836-b4d1-420356931c5a",
   "metadata": {},
   "outputs": [
    {
     "name": "stdout",
     "output_type": "stream",
     "text": [
      "\n",
      "--- Bond Analysis-----\n",
      "\n",
      "Interpolated YTM for 10 years: 7.5000%\n"
     ]
    }
   ],
   "source": [
    "#-- Part 6:- Application  and Analysis--\n",
    "print(\"\\n--- Bond Analysis-----\")\n",
    "ytm_for_10_years = yield_curve_interpolator(MATURITY_YEARS)\n",
    "print(f\"\\nInterpolated YTM for {MATURITY_YEARS} years: {ytm_for_10_years*100:.4f}%\")\n",
    "ytm_for_10_years = ytm_for_10_years.item()"
   ]
  },
  {
   "cell_type": "code",
   "execution_count": 31,
   "id": "3e50bdff-fa25-490f-ba16-cf99b2235319",
   "metadata": {},
   "outputs": [
    {
     "name": "stdout",
     "output_type": "stream",
     "text": [
      "Bond Price (at 7.5000% YTM): Rs. 1,034,740.51\n"
     ]
    }
   ],
   "source": [
    "# Calculate the bond price using this YTM\n",
    "bond_price_at_10_years_ytm = calculate_bond_price(\n",
    "    cash_flows, time_to_cash_flow_years, ytm_for_10_years, COMPOUNDING_FREQUENCY\n",
    ")\n",
    "\n",
    "print(f\"Bond Price (at {ytm_for_10_years*100:.4f}% YTM): Rs. {bond_price_at_10_years_ytm:,.2f}\")"
   ]
  },
  {
   "cell_type": "code",
   "execution_count": 30,
   "id": "6ae9d8c4-18d7-434b-8d51-9cd269c85117",
   "metadata": {},
   "outputs": [
    {
     "name": "stdout",
     "output_type": "stream",
     "text": [
      "Bond Price (at 7.5000% YTM): Rs.1034740.51\n"
     ]
    }
   ],
   "source": [
    "ytm_for_10_years = yield_curve_interpolator(MATURITY_YEARS)\n",
    "ytm_for_10_years = float(ytm_for_10_years)  # Convert array to float\n",
    "\n",
    "bond_price_at_10_years_ytm = calculate_bond_price(\n",
    "    cash_flows, time_to_cash_flow_years, ytm_for_10_years, COMPOUNDING_FREQUENCY\n",
    ")\n",
    "\n",
    "print(f\"Bond Price (at {ytm_for_10_years*100:.4f}% YTM): Rs.{bond_price_at_10_years_ytm:.2f}\")\n"
   ]
  },
  {
   "cell_type": "code",
   "execution_count": 24,
   "id": "ce3c366c-f48b-43b8-9dda-1220167257dc",
   "metadata": {},
   "outputs": [
    {
     "name": "stdout",
     "output_type": "stream",
     "text": [
      "YTM Output: 0.075\n",
      "Type: <class 'float'>\n"
     ]
    }
   ],
   "source": [
    "print(\"YTM Output:\", ytm_for_10_years)\n",
    "print(\"Type:\", type(ytm_for_10_years))\n",
    "\n"
   ]
  },
  {
   "cell_type": "code",
   "execution_count": 26,
   "id": "7703dd63-c994-4855-ad4a-aea8a47fef85",
   "metadata": {},
   "outputs": [],
   "source": [
    "bond_price_at_10_years_ytm"
   ]
  },
  {
   "cell_type": "code",
   "execution_count": 28,
   "id": "52d318a9-662d-4165-b805-99042c67f07b",
   "metadata": {},
   "outputs": [],
   "source": [
    "def calculate_bond_price(cash_flows, time_to_cash_flow_years, ytm, compounding_frequency):\n",
    "    bond_price = 0\n",
    "    for cf, t in zip(cash_flows, time_to_cash_flow_years):\n",
    "        discount_factor = (1 + ytm / compounding_frequency) ** (compounding_frequency * t)\n",
    "        bond_price += cf / discount_factor\n",
    "\n",
    "    return bond_price  # ✅ This must be included\n"
   ]
  },
  {
   "cell_type": "code",
   "execution_count": 34,
   "id": "8e3c4d2f-adc0-4506-85ae-45a622edf669",
   "metadata": {},
   "outputs": [
    {
     "name": "stdout",
     "output_type": "stream",
     "text": [
      "\n",
      "a. Duration of Bond (at 10 years maturity):\n",
      "   Macaulay Duration: 7.1225 years\n",
      "   Modified Duration: 6.8651\n"
     ]
    }
   ],
   "source": [
    "# Calculate Macaulay and Modified Duration\n",
    "macaulay_dur = calculate_macaulay_duration(\n",
    "    cash_flows, time_to_cash_flow_years, bond_price_at_10_years_ytm, ytm_for_10_years, COMPOUNDING_FREQUENCY\n",
    ")\n",
    "modified_dur = calculate_modified_duration(\n",
    "    macaulay_dur, ytm_for_10_years, COMPOUNDING_FREQUENCY\n",
    ")\n",
    "\n",
    "print(f\"\\na. Duration of Bond (at {MATURITY_YEARS} years maturity):\")\n",
    "print(f\"   Macaulay Duration: {macaulay_dur:.4f} years\")\n",
    "print(f\"   Modified Duration: {modified_dur:.4f}\")"
   ]
  },
  {
   "cell_type": "code",
   "execution_count": 35,
   "id": "9b0ef57b-e07a-4cf0-9918-2293d1fbb5a2",
   "metadata": {},
   "outputs": [
    {
     "name": "stdout",
     "output_type": "stream",
     "text": [
      "\n",
      "b. DV01 Risk of Bond across various yield curve points:\n"
     ]
    }
   ],
   "source": [
    "# b. Calculate the DV01 risk of bond across 1Y, 2Y, 3Y, 4Y, 5Y, 3.5Y, 4.5Y, 5.5Y points\n",
    "target_maturities_for_dv01 = [1.0, 2.0, 3.0, 4.0, 5.0, 3.5, 4.5, 5.5]\n",
    "dv01_results = []\n",
    "\n",
    "print(\"\\nb. DV01 Risk of Bond across various yield curve points:\")\n",
    "\n",
    "for target_maturity in target_maturities_for_dv01:\n",
    "    ytm_for_dv01 = yield_curve_interpolator(target_maturity)\n",
    "    \n",
    "    # Recalculate bond price based on this YTM\n",
    "    current_bond_price = calculate_bond_price(\n",
    "        cash_flows, time_to_cash_flow_years, ytm_for_dv01, COMPOUNDING_FREQUENCY\n",
    "    )\n",
    "    \n",
    "    # Recalculate Macaulay and Modified Duration based on this YTM\n",
    "    current_macaulay_dur = calculate_macaulay_duration(\n",
    "        cash_flows, time_to_cash_flow_years, current_bond_price, ytm_for_dv01, COMPOUNDING_FREQUENCY\n",
    "    )\n",
    "    current_modified_dur = calculate_modified_duration(\n",
    "        current_macaulay_dur, ytm_for_dv01, COMPOUNDING_FREQUENCY\n",
    "    )\n",
    "    "
   ]
  },
  {
   "cell_type": "code",
   "execution_count": 36,
   "id": "adb6b09b-0e6e-4620-b39e-8b94774b30aa",
   "metadata": {},
   "outputs": [
    {
     "name": "stdout",
     "output_type": "stream",
     "text": [
      " Target Maturity (Years) Interpolated YTM (%) Bond Price (Rs.) Modified Duration DV01 (Rs.)\n",
      "                     5.5               7.0500     1,067,356.46            6.9279   739.4559\n",
      "\n",
      "--- End of Analysis ---\n"
     ]
    }
   ],
   "source": [
    "\n",
    "    # Calculate DV01\n",
    "    current_dv01 = calculate_dv01(current_modified_dur, current_bond_price)\n",
    "    \n",
    "    dv01_results.append({\n",
    "        \"Target Maturity (Years)\": target_maturity,\n",
    "        \"Interpolated YTM (%)\": f\"{ytm_for_dv01*100:.4f}\",\n",
    "        \"Bond Price (Rs.)\": f\"{current_bond_price:,.2f}\",\n",
    "        \"Modified Duration\": f\"{current_modified_dur:.4f}\",\n",
    "        \"DV01 (Rs.)\": f\"{current_dv01:,.4f}\"\n",
    "    })\n",
    "\n",
    "# Display results in a table\n",
    "df_dv01 = pd.DataFrame(dv01_results)\n",
    "print(df_dv01.to_string(index=False))\n",
    "\n",
    "print(\"\\n--- End of Analysis ---\")\n"
   ]
  },
  {
   "cell_type": "code",
   "execution_count": null,
   "id": "b91ae10f-cd4d-498b-b1c1-7b58f934f8c9",
   "metadata": {},
   "outputs": [],
   "source": []
  },
  {
   "cell_type": "code",
   "execution_count": null,
   "id": "fbf97407-ab77-40dd-8aea-0fe86f25ab4c",
   "metadata": {},
   "outputs": [],
   "source": []
  },
  {
   "cell_type": "code",
   "execution_count": null,
   "id": "8bc6365a-6546-4482-b473-8935691b395c",
   "metadata": {},
   "outputs": [],
   "source": []
  },
  {
   "cell_type": "code",
   "execution_count": null,
   "id": "243b528a-1865-40ee-8327-6c60513f6d6c",
   "metadata": {},
   "outputs": [],
   "source": []
  },
  {
   "cell_type": "code",
   "execution_count": null,
   "id": "1a5d6f44-aaa8-4e44-b55a-318c6f08707f",
   "metadata": {},
   "outputs": [],
   "source": []
  },
  {
   "cell_type": "code",
   "execution_count": null,
   "id": "0de73d67-bbb9-4389-9cda-e0547392a596",
   "metadata": {},
   "outputs": [],
   "source": []
  },
  {
   "cell_type": "code",
   "execution_count": null,
   "id": "7f58f030-107b-4e57-92df-9aa19c499969",
   "metadata": {},
   "outputs": [],
   "source": []
  },
  {
   "cell_type": "code",
   "execution_count": null,
   "id": "7bed6e96-8bcc-4527-9196-6e2020541824",
   "metadata": {},
   "outputs": [],
   "source": []
  }
 ],
 "metadata": {
  "kernelspec": {
   "display_name": "Python 3 (ipykernel)",
   "language": "python",
   "name": "python3"
  },
  "language_info": {
   "codemirror_mode": {
    "name": "ipython",
    "version": 3
   },
   "file_extension": ".py",
   "mimetype": "text/x-python",
   "name": "python",
   "nbconvert_exporter": "python",
   "pygments_lexer": "ipython3",
   "version": "3.11.7"
  }
 },
 "nbformat": 4,
 "nbformat_minor": 5
}
